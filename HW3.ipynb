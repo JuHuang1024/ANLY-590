{
 "cells": [
  {
   "cell_type": "markdown",
   "metadata": {},
   "source": [
    "## 1 Autoencoder"
   ]
  },
  {
   "cell_type": "code",
   "execution_count": 8,
   "metadata": {},
   "outputs": [],
   "source": [
    "import warnings\n",
    "warnings.filterwarnings(\"ignore\")\n",
    "from keras.layers import Input, Dense,Conv1D, Conv2D, MaxPooling2D, UpSampling2D, Flatten, Dropout, Reshape, Embedding, LSTM, GlobalMaxPooling1D\n",
    "from keras.models import Model\n",
    "from keras.models import Sequential\n",
    "from keras import backend as K\n",
    "from keras import utils, optimizers\n",
    "from keras.utils.np_utils import to_categorical\n",
    "from keras.datasets import fashion_mnist\n",
    "import numpy as np\n",
    "from keras.callbacks import TensorBoard\n",
    "import matplotlib.pyplot as plt\n",
    "from keras.applications.vgg16 import VGG16\n",
    "from keras.applications.vgg16 import preprocess_input\n",
    "from keras.optimizers import SGD, RMSprop\n",
    "from keras.preprocessing.text import Tokenizer\n",
    "from keras.preprocessing.sequence import pad_sequences\n",
    "#import cv2\n",
    "import pandas as pd\n",
    "import requests\n",
    "from sklearn.model_selection import train_test_split\n",
    "from sklearn.metrics import roc_curve, auc"
   ]
  },
  {
   "cell_type": "code",
   "execution_count": 9,
   "metadata": {},
   "outputs": [],
   "source": [
    "(x_train, _), (x_test, _) = fashion_mnist.load_data()\n",
    "\n",
    "x_train = x_train.astype('float32') / 255.\n",
    "x_test = x_test.astype('float32') / 255.\n",
    "x_train = np.reshape(x_train, (len(x_train), 28, 28, 1))  # adapt this if using `channels_first` image data format\n",
    "x_test = np.reshape(x_test, (len(x_test), 28, 28, 1))  # adapt this if using `channels_first` image data format"
   ]
  },
  {
   "cell_type": "code",
   "execution_count": 10,
   "metadata": {},
   "outputs": [
    {
     "data": {
      "image/png": "[encoded data removed]",
      "text/plain": [
       "<Figure size 1440x144 with 10 Axes>"
      ]
     },
     "metadata": {
      "needs_background": "light"
     },
     "output_type": "display_data"
    }
   ],
   "source": [
    "n = 10\n",
    "plt.figure(figsize=(20, 2))\n",
    "for i in range(n):\n",
    "    ax = plt.subplot(1, n, i+1)\n",
    "    plt.imshow(x_test[i].reshape(28, 28))\n",
    "    plt.gray()\n",
    "    ax.get_xaxis().set_visible(False)\n",
    "    ax.get_yaxis().set_visible(False)\n",
    "plt.show()"
   ]
  },
  {
   "cell_type": "code",
   "execution_count": 11,
   "metadata": {},
   "outputs": [],
   "source": [
    "input_img = Input(shape=(28, 28, 1))\n",
    "\n",
    "x = Conv2D(16, (3, 3), activation='relu', padding='same')(input_img)\n",
    "x = MaxPooling2D((2, 2), padding='same')(x)\n",
    "x = Conv2D(16, (3, 3), activation='relu', padding='same')(x)\n",
    "x = MaxPooling2D((2, 2), padding='same')(x)\n",
    "x = Conv2D(32, (3, 3), activation='relu', padding='same')(x)\n",
    "encoded = MaxPooling2D((2, 2), padding='same')(x)\n",
    "\n",
    "\n",
    "x = Conv2D(32, (3, 3), activation='relu', padding='same')(encoded)\n",
    "x = UpSampling2D((2, 2))(x)\n",
    "x = Conv2D(16, (3, 3), activation='relu', padding='same')(x)\n",
    "x = UpSampling2D((2, 2))(x)\n",
    "x = Conv2D(16, (3, 3), activation='relu')(x)\n",
    "x = UpSampling2D((2, 2))(x)\n",
    "decoded = Conv2D(1, (3, 3), activation='sigmoid', padding='same')(x)\n",
    "\n",
    "autoencoder = Model(input_img, decoded)\n",
    "autoencoder.compile(optimizer='adadelta', loss='binary_crossentropy')"
   ]
  },
  {
   "cell_type": "code",
   "execution_count": 5,
   "metadata": {},
   "outputs": [
    {
     "name": "stdout",
     "output_type": "stream",
     "text": [
      "Train on 60000 samples, validate on 10000 samples\n",
      "Epoch 1/10\n",
      "60000/60000 [==============================] - 75s 1ms/step - loss: 0.3569 - val_loss: 0.3227\n",
      "Epoch 2/10\n",
      "60000/60000 [==============================] - 84s 1ms/step - loss: 0.3083 - val_loss: 0.3008\n",
      "Epoch 3/10\n",
      "60000/60000 [==============================] - 83s 1ms/step - loss: 0.2993 - val_loss: 0.3024\n",
      "Epoch 4/10\n",
      "60000/60000 [==============================] - 84s 1ms/step - loss: 0.2944 - val_loss: 0.2958\n",
      "Epoch 5/10\n",
      "60000/60000 [==============================] - 83s 1ms/step - loss: 0.2913 - val_loss: 0.2913\n",
      "Epoch 6/10\n",
      "60000/60000 [==============================] - 84s 1ms/step - loss: 0.2890 - val_loss: 0.2893\n",
      "Epoch 7/10\n",
      "60000/60000 [==============================] - 83s 1ms/step - loss: 0.2869 - val_loss: 0.2879\n",
      "Epoch 8/10\n",
      "60000/60000 [==============================] - 82s 1ms/step - loss: 0.2853 - val_loss: 0.2861\n",
      "Epoch 9/10\n",
      "60000/60000 [==============================] - 82s 1ms/step - loss: 0.2839 - val_loss: 0.2910\n",
      "Epoch 10/10\n",
      "60000/60000 [==============================] - 85s 1ms/step - loss: 0.2826 - val_loss: 0.2818\n"
     ]
    },
    {
     "data": {
      "text/plain": [
       "<keras.callbacks.callbacks.History at 0x1fb23cad2b0>"
      ]
     },
     "execution_count": 5,
     "metadata": {},
     "output_type": "execute_result"
    }
   ],
   "source": [
    "autoencoder.fit(x_train, x_train,\n",
    "                epochs=10,\n",
    "                batch_size=128,\n",
    "                shuffle=True,\n",
    "                validation_data=(x_test, x_test))"
   ]
  },
  {
   "cell_type": "code",
   "execution_count": 6,
   "metadata": {},
   "outputs": [
    {
     "data": {
      "image/png": "[encoded data removed]",
      "text/plain": [
       "<Figure size 1440x288 with 20 Axes>"
      ]
     },
     "metadata": {
      "needs_background": "light"
     },
     "output_type": "display_data"
    }
   ],
   "source": [
    "decoded_imgs = autoencoder.predict(x_test)\n",
    "\n",
    "n = 10\n",
    "plt.figure(figsize=(20, 4))\n",
    "for i in range(n):\n",
    "    # display original\n",
    "    ax = plt.subplot(2, n, i + 1)\n",
    "    plt.imshow(x_test[i].reshape(28, 28))\n",
    "    plt.gray()\n",
    "    ax.get_xaxis().set_visible(False)\n",
    "    ax.get_yaxis().set_visible(False)\n",
    "\n",
    "    # display reconstruction\n",
    "    ax = plt.subplot(2, n, i + 1 + n)\n",
    "    plt.imshow(decoded_imgs[i].reshape(28, 28))\n",
    "    plt.gray()\n",
    "    ax.get_xaxis().set_visible(False)\n",
    "    ax.get_yaxis().set_visible(False)\n",
    "plt.show()"
   ]
  },
  {
   "cell_type": "markdown",
   "metadata": {},
   "source": [
    "## 2 Image Classification\n",
    "### 2.1 Deep CNN"
   ]
  },
  {
   "cell_type": "markdown",
   "metadata": {},
   "source": [
    "Build a deep CNN with 3 hidden layers: two 2D convolution layers, each followed by a 2 $\\times$ 2 maxpooling layer and a 0.3 dropout regularization operation, and a dense layer. The two convolution layers' output is passed to a flatten layer, the dense layer with 64 units, a 0.5 dropout regularization and finally to a softmax output layer that predicts 10 categories. The two 2D convolution layers both have 3 $\\times$ 3 kernels with a stride of 1. No padding is used."
   ]
  },
  {
   "cell_type": "code",
   "execution_count": 12,
   "metadata": {},
   "outputs": [],
   "source": [
    "import numpy as np\n",
    "import keras\n",
    "from keras import layers\n",
    "from keras import models\n",
    "from keras.utils import to_categorical\n",
    "from sklearn.metrics import accuracy_score"
   ]
  },
  {
   "cell_type": "code",
   "execution_count": 8,
   "metadata": {},
   "outputs": [],
   "source": [
    "fashion_mnist = keras.datasets.fashion_mnist\n",
    "(train_images, train_labels), (test_images, test_labels) = fashion_mnist.load_data()"
   ]
  },
  {
   "cell_type": "code",
   "execution_count": 9,
   "metadata": {},
   "outputs": [],
   "source": [
    "train_images = train_images.reshape((60000, 28, 28, 1))\n",
    "train_images = train_images.astype('float32') / 255\n",
    "test_images = test_images.reshape((10000, 28, 28, 1))\n",
    "test_images = test_images.astype('float32') / 255\n",
    "train_labels = to_categorical(train_labels)\n",
    "test_labels = to_categorical(test_labels)"
   ]
  },
  {
   "cell_type": "code",
   "execution_count": 10,
   "metadata": {},
   "outputs": [],
   "source": [
    "model = models.Sequential()\n",
    "model.add(layers.Conv2D(64, (3, 3), activation='relu', input_shape=(28, 28, 1))) \n",
    "model.add(layers.MaxPooling2D((2, 2)))\n",
    "model.add(layers.Dropout(0.3))\n",
    "model.add(layers.Conv2D(32, (3, 3), activation='relu'))\n",
    "model.add(layers.MaxPooling2D((2, 2)))\n",
    "model.add(layers.Dropout(0.3))"
   ]
  },
  {
   "cell_type": "code",
   "execution_count": 11,
   "metadata": {},
   "outputs": [
    {
     "name": "stdout",
     "output_type": "stream",
     "text": [
      "Model: \"sequential_1\"\n",
      "_________________________________________________________________\n",
      "Layer (type)                 Output Shape              Param #   \n",
      "=================================================================\n",
      "conv2d_8 (Conv2D)            (None, 26, 26, 64)        640       \n",
      "_________________________________________________________________\n",
      "max_pooling2d_4 (MaxPooling2 (None, 13, 13, 64)        0         \n",
      "_________________________________________________________________\n",
      "dropout_1 (Dropout)          (None, 13, 13, 64)        0         \n",
      "_________________________________________________________________\n",
      "conv2d_9 (Conv2D)            (None, 11, 11, 32)        18464     \n",
      "_________________________________________________________________\n",
      "max_pooling2d_5 (MaxPooling2 (None, 5, 5, 32)          0         \n",
      "_________________________________________________________________\n",
      "dropout_2 (Dropout)          (None, 5, 5, 32)          0         \n",
      "_________________________________________________________________\n",
      "flatten_1 (Flatten)          (None, 800)               0         \n",
      "_________________________________________________________________\n",
      "dense_1 (Dense)              (None, 64)                51264     \n",
      "_________________________________________________________________\n",
      "dropout_3 (Dropout)          (None, 64)                0         \n",
      "_________________________________________________________________\n",
      "dense_2 (Dense)              (None, 10)                650       \n",
      "=================================================================\n",
      "Total params: 71,018\n",
      "Trainable params: 71,018\n",
      "Non-trainable params: 0\n",
      "_________________________________________________________________\n"
     ]
    }
   ],
   "source": [
    "model.add(layers.Flatten())\n",
    "model.add(layers.Dense(64, activation='relu'))\n",
    "model.add(layers.Dropout(0.5))\n",
    "model.add(layers.Dense(10, activation='softmax'))\n",
    "model.summary()"
   ]
  },
  {
   "cell_type": "code",
   "execution_count": 12,
   "metadata": {},
   "outputs": [
    {
     "name": "stdout",
     "output_type": "stream",
     "text": [
      "Epoch 1/5\n",
      "60000/60000 [==============================] - 49s 817us/step - loss: 0.7410 - accuracy: 0.7319\n",
      "Epoch 2/5\n",
      "60000/60000 [==============================] - 48s 807us/step - loss: 0.5025 - accuracy: 0.8224\n",
      "Epoch 3/5\n",
      "60000/60000 [==============================] - 47s 791us/step - loss: 0.4464 - accuracy: 0.8424\n",
      "Epoch 4/5\n",
      "60000/60000 [==============================] - 48s 807us/step - loss: 0.4196 - accuracy: 0.8508\n",
      "Epoch 5/5\n",
      "60000/60000 [==============================] - 49s 824us/step - loss: 0.3960 - accuracy: 0.8608\n"
     ]
    },
    {
     "data": {
      "text/plain": [
       "<keras.callbacks.callbacks.History at 0x1fb23d106a0>"
      ]
     },
     "execution_count": 12,
     "metadata": {},
     "output_type": "execute_result"
    }
   ],
   "source": [
    "model.compile(optimizer='rmsprop',\n",
    "              loss='categorical_crossentropy',\n",
    "              metrics=['accuracy'])\n",
    "model.fit(train_images, train_labels, epochs=5, batch_size=64)"
   ]
  },
  {
   "cell_type": "code",
   "execution_count": 13,
   "metadata": {},
   "outputs": [
    {
     "name": "stdout",
     "output_type": "stream",
     "text": [
      "The model's accuracy score on training set:\n",
      "\n",
      "0.8923333287239075\n",
      "The model's accuracy score on test set:\n",
      "\n",
      "0.8827999830245972\n"
     ]
    }
   ],
   "source": [
    "print(\"The model's accuracy score on training set:\\n\")\n",
    "score_train = model.evaluate(train_images, train_labels, verbose=0)\n",
    "print(score_train[1])\n",
    "print(\"The model's accuracy score on test set:\\n\")\n",
    "score_test = model.evaluate(test_images, test_labels, verbose=0)\n",
    "print(score_test[1])"
   ]
  },
  {
   "cell_type": "markdown",
   "metadata": {},
   "source": [
    "### 2.2 Transfer Learning"
   ]
  },
  {
   "cell_type": "code",
   "execution_count": 14,
   "metadata": {},
   "outputs": [],
   "source": [
    "from keras.applications import VGG16"
   ]
  },
  {
   "cell_type": "code",
   "execution_count": 15,
   "metadata": {},
   "outputs": [
    {
     "name": "stdout",
     "output_type": "stream",
     "text": [
      "Model: \"vgg16\"\n",
      "_________________________________________________________________\n",
      "Layer (type)                 Output Shape              Param #   \n",
      "=================================================================\n",
      "input_2 (InputLayer)         (None, 48, 48, 3)         0         \n",
      "_________________________________________________________________\n",
      "block1_conv1 (Conv2D)        (None, 48, 48, 64)        1792      \n",
      "_________________________________________________________________\n",
      "block1_conv2 (Conv2D)        (None, 48, 48, 64)        36928     \n",
      "_________________________________________________________________\n",
      "block1_pool (MaxPooling2D)   (None, 24, 24, 64)        0         \n",
      "_________________________________________________________________\n",
      "block2_conv1 (Conv2D)        (None, 24, 24, 128)       73856     \n",
      "_________________________________________________________________\n",
      "block2_conv2 (Conv2D)        (None, 24, 24, 128)       147584    \n",
      "_________________________________________________________________\n",
      "block2_pool (MaxPooling2D)   (None, 12, 12, 128)       0         \n",
      "_________________________________________________________________\n",
      "block3_conv1 (Conv2D)        (None, 12, 12, 256)       295168    \n",
      "_________________________________________________________________\n",
      "block3_conv2 (Conv2D)        (None, 12, 12, 256)       590080    \n",
      "_________________________________________________________________\n",
      "block3_conv3 (Conv2D)        (None, 12, 12, 256)       590080    \n",
      "_________________________________________________________________\n",
      "block3_pool (MaxPooling2D)   (None, 6, 6, 256)         0         \n",
      "_________________________________________________________________\n",
      "block4_conv1 (Conv2D)        (None, 6, 6, 512)         1180160   \n",
      "_________________________________________________________________\n",
      "block4_conv2 (Conv2D)        (None, 6, 6, 512)         2359808   \n",
      "_________________________________________________________________\n",
      "block4_conv3 (Conv2D)        (None, 6, 6, 512)         2359808   \n",
      "_________________________________________________________________\n",
      "block4_pool (MaxPooling2D)   (None, 3, 3, 512)         0         \n",
      "_________________________________________________________________\n",
      "block5_conv1 (Conv2D)        (None, 3, 3, 512)         2359808   \n",
      "_________________________________________________________________\n",
      "block5_conv2 (Conv2D)        (None, 3, 3, 512)         2359808   \n",
      "_________________________________________________________________\n",
      "block5_conv3 (Conv2D)        (None, 3, 3, 512)         2359808   \n",
      "_________________________________________________________________\n",
      "block5_pool (MaxPooling2D)   (None, 1, 1, 512)         0         \n",
      "=================================================================\n",
      "Total params: 14,714,688\n",
      "Trainable params: 14,714,688\n",
      "Non-trainable params: 0\n",
      "_________________________________________________________________\n"
     ]
    }
   ],
   "source": [
    "conv_base = VGG16(weights = 'imagenet', include_top = False, input_shape = (48,48,3))\n",
    "conv_base.summary()"
   ]
  },
  {
   "cell_type": "code",
   "execution_count": 16,
   "metadata": {},
   "outputs": [
    {
     "name": "stdout",
     "output_type": "stream",
     "text": [
      "This is the number of trainable weights before freezing the conv base: 30\n",
      "This is the number of trainable weights after freezing the conv base: 4\n"
     ]
    }
   ],
   "source": [
    "model = models.Sequential()\n",
    "model.add(conv_base)\n",
    "model.add(layers.Flatten())\n",
    "model.add(layers.Dense(64, activation='relu'))\n",
    "model.add(layers.Dropout(0.5))\n",
    "model.add(layers.Dense(10, activation='softmax'))\n",
    "\n",
    "# Freeze the convolutional base\n",
    "print('This is the number of trainable weights before freezing the conv base:', len(model.trainable_weights))\n",
    "conv_base.trainable = False\n",
    "print('This is the number of trainable weights after freezing the conv base:', len(model.trainable_weights))"
   ]
  },
  {
   "cell_type": "code",
   "execution_count": 17,
   "metadata": {},
   "outputs": [
    {
     "name": "stdout",
     "output_type": "stream",
     "text": [
      "Model: \"sequential_2\"\n",
      "_________________________________________________________________\n",
      "Layer (type)                 Output Shape              Param #   \n",
      "=================================================================\n",
      "vgg16 (Model)                (None, 1, 1, 512)         14714688  \n",
      "_________________________________________________________________\n",
      "flatten_2 (Flatten)          (None, 512)               0         \n",
      "_________________________________________________________________\n",
      "dense_3 (Dense)              (None, 64)                32832     \n",
      "_________________________________________________________________\n",
      "dropout_4 (Dropout)          (None, 64)                0         \n",
      "_________________________________________________________________\n",
      "dense_4 (Dense)              (None, 10)                650       \n",
      "=================================================================\n",
      "Total params: 14,748,170\n",
      "Trainable params: 33,482\n",
      "Non-trainable params: 14,714,688\n",
      "_________________________________________________________________\n"
     ]
    }
   ],
   "source": [
    "model.summary()"
   ]
  },
  {
   "cell_type": "code",
   "execution_count": 18,
   "metadata": {},
   "outputs": [
    {
     "data": {
      "text/plain": [
       "(60000, 48, 48, 3)"
      ]
     },
     "execution_count": 18,
     "metadata": {},
     "output_type": "execute_result"
    }
   ],
   "source": [
    "train_images = np.array(list(map(lambda x: np.resize(x, (48,48,3)), train_images)))\n",
    "train_images.shape"
   ]
  },
  {
   "cell_type": "code",
   "execution_count": 19,
   "metadata": {},
   "outputs": [
    {
     "name": "stdout",
     "output_type": "stream",
     "text": [
      "Epoch 1/5\n",
      "60000/60000 [==============================] - 986s 16ms/step - loss: 1.1849 - accuracy: 0.5751\n",
      "Epoch 2/5\n",
      "60000/60000 [==============================] - 622s 10ms/step - loss: 0.8926 - accuracy: 0.6836\n",
      "Epoch 3/5\n",
      "60000/60000 [==============================] - 2183s 36ms/step - loss: 0.8347 - accuracy: 0.7058\n",
      "Epoch 4/5\n",
      "60000/60000 [==============================] - 542s 9ms/step - loss: 0.8082 - accuracy: 0.7147\n",
      "Epoch 5/5\n",
      "60000/60000 [==============================] - 594s 10ms/step - loss: 0.7902 - accuracy: 0.7245\n"
     ]
    },
    {
     "data": {
      "text/plain": [
       "<keras.callbacks.callbacks.History at 0x1fb2b972d68>"
      ]
     },
     "execution_count": 19,
     "metadata": {},
     "output_type": "execute_result"
    }
   ],
   "source": [
    "model.compile(optimizer='rmsprop',\n",
    "              loss='categorical_crossentropy',\n",
    "              metrics=['accuracy'])\n",
    "model.fit(train_images, train_labels, epochs=5, batch_size=64)"
   ]
  },
  {
   "cell_type": "code",
   "execution_count": 20,
   "metadata": {},
   "outputs": [
    {
     "name": "stdout",
     "output_type": "stream",
     "text": [
      "The model's accuracy score on training set:\n",
      "\n",
      "0.7514833211898804\n",
      "The model's accuracy score on test set:\n",
      "\n",
      "0.7402999997138977\n"
     ]
    }
   ],
   "source": [
    "print(\"The model's accuracy score on training set:\\n\")\n",
    "score_train = model.evaluate(train_images, train_labels, verbose=0)\n",
    "print(score_train[1])\n",
    "print(\"The model's accuracy score on test set:\\n\")\n",
    "test_images = np.array(list(map(lambda x: np.resize(x, (48,48,3)), test_images)))\n",
    "score_test = model.evaluate(test_images, test_labels, verbose=0)\n",
    "print(score_test[1])"
   ]
  },
  {
   "cell_type": "markdown",
   "metadata": {},
   "source": [
    "## 3 Text Classification\n",
    "### 3.1 RNN\n",
    "Build and train a Recurrent Neural Network to solve this text classification task. You can use any type of RNN you wish (SimpleRNN, GRU, LSTM)."
   ]
  },
  {
   "cell_type": "code",
   "execution_count": 35,
   "metadata": {},
   "outputs": [],
   "source": [
    "# --- Libraries ---\n",
    "# - Base libs -\n",
    "import os\n",
    "import numpy as np\n",
    "import pandas as pd\n",
    "\n",
    "# - Data Preprocessing libs -\n",
    "import nltk\n",
    "\n",
    "# - Keras libs -\n",
    "from keras.models import Sequential\n",
    "from keras.layers import Dense, Embedding, SimpleRNN, LSTM, GRU, Conv1D, MaxPooling1D, GlobalMaxPooling1D\n",
    "from keras.utils import plot_model\n",
    "from keras.utils.vis_utils import model_to_dot\n",
    "from keras.callbacks import TensorBoard, ModelCheckpoint\n",
    "\n",
    "# -Plot libs-\n",
    "import matplotlib.pyplot as plt\n",
    "from IPython.display import SVG, display\n",
    "#%matplotlib inline\n",
    "\n",
    "# -- ROC libs --\n",
    "from sklearn.metrics import roc_curve, auc"
   ]
  },
  {
   "cell_type": "code",
   "execution_count": 36,
   "metadata": {},
   "outputs": [],
   "source": [
    "text_data = pd.read_csv('tweets_with_labels.csv',sep='\\t')"
   ]
  },
  {
   "cell_type": "code",
   "execution_count": 37,
   "metadata": {},
   "outputs": [
    {
     "data": {
      "text/html": [
       "<div>\n",
       "<style scoped>\n",
       "    .dataframe tbody tr th:only-of-type {\n",
       "        vertical-align: middle;\n",
       "    }\n",
       "\n",
       "    .dataframe tbody tr th {\n",
       "        vertical-align: top;\n",
       "    }\n",
       "\n",
       "    .dataframe thead th {\n",
       "        text-align: right;\n",
       "    }\n",
       "</style>\n",
       "<table border=\"1\" class=\"dataframe\">\n",
       "  <thead>\n",
       "    <tr style=\"text-align: right;\">\n",
       "      <th></th>\n",
       "      <th>id</th>\n",
       "      <th>tweet</th>\n",
       "      <th>k1</th>\n",
       "      <th>k2</th>\n",
       "      <th>k3</th>\n",
       "      <th>k4</th>\n",
       "      <th>k5</th>\n",
       "      <th>k6</th>\n",
       "      <th>k7</th>\n",
       "      <th>k8</th>\n",
       "      <th>k9</th>\n",
       "      <th>k10</th>\n",
       "      <th>k11</th>\n",
       "      <th>k12</th>\n",
       "      <th>k13</th>\n",
       "      <th>k14</th>\n",
       "      <th>k15</th>\n",
       "    </tr>\n",
       "  </thead>\n",
       "  <tbody>\n",
       "    <tr>\n",
       "      <th>0</th>\n",
       "      <td>1</td>\n",
       "      <td>Jazz for a Rainy Afternoon:  {link}</td>\n",
       "      <td>0.0</td>\n",
       "      <td>0.0</td>\n",
       "      <td>0.0</td>\n",
       "      <td>0.0</td>\n",
       "      <td>0.0</td>\n",
       "      <td>0.0</td>\n",
       "      <td>0.000</td>\n",
       "      <td>0.0</td>\n",
       "      <td>0.000</td>\n",
       "      <td>1.0</td>\n",
       "      <td>0.0</td>\n",
       "      <td>0.0</td>\n",
       "      <td>0.000</td>\n",
       "      <td>0.0</td>\n",
       "      <td>0.0</td>\n",
       "    </tr>\n",
       "    <tr>\n",
       "      <th>1</th>\n",
       "      <td>2</td>\n",
       "      <td>RT: @mention: I love rainy days.</td>\n",
       "      <td>0.0</td>\n",
       "      <td>0.0</td>\n",
       "      <td>0.0</td>\n",
       "      <td>0.0</td>\n",
       "      <td>0.0</td>\n",
       "      <td>0.0</td>\n",
       "      <td>0.000</td>\n",
       "      <td>0.0</td>\n",
       "      <td>0.000</td>\n",
       "      <td>1.0</td>\n",
       "      <td>0.0</td>\n",
       "      <td>0.0</td>\n",
       "      <td>0.000</td>\n",
       "      <td>0.0</td>\n",
       "      <td>0.0</td>\n",
       "    </tr>\n",
       "    <tr>\n",
       "      <th>2</th>\n",
       "      <td>3</td>\n",
       "      <td>Good Morning Chicago! Time to kick the Windy C...</td>\n",
       "      <td>0.0</td>\n",
       "      <td>0.0</td>\n",
       "      <td>0.0</td>\n",
       "      <td>0.0</td>\n",
       "      <td>0.0</td>\n",
       "      <td>0.0</td>\n",
       "      <td>1.000</td>\n",
       "      <td>0.0</td>\n",
       "      <td>0.000</td>\n",
       "      <td>0.0</td>\n",
       "      <td>0.0</td>\n",
       "      <td>0.0</td>\n",
       "      <td>0.000</td>\n",
       "      <td>0.0</td>\n",
       "      <td>0.0</td>\n",
       "    </tr>\n",
       "    <tr>\n",
       "      <th>3</th>\n",
       "      <td>6</td>\n",
       "      <td>Preach lol! :) RT @mention: #alliwantis this t...</td>\n",
       "      <td>0.0</td>\n",
       "      <td>0.0</td>\n",
       "      <td>0.0</td>\n",
       "      <td>0.0</td>\n",
       "      <td>0.0</td>\n",
       "      <td>0.0</td>\n",
       "      <td>0.604</td>\n",
       "      <td>0.0</td>\n",
       "      <td>0.196</td>\n",
       "      <td>0.0</td>\n",
       "      <td>0.0</td>\n",
       "      <td>0.0</td>\n",
       "      <td>0.201</td>\n",
       "      <td>0.0</td>\n",
       "      <td>0.0</td>\n",
       "    </tr>\n",
       "    <tr>\n",
       "      <th>4</th>\n",
       "      <td>9</td>\n",
       "      <td>@mention good morning sunshine</td>\n",
       "      <td>0.0</td>\n",
       "      <td>0.0</td>\n",
       "      <td>0.0</td>\n",
       "      <td>0.0</td>\n",
       "      <td>0.0</td>\n",
       "      <td>0.0</td>\n",
       "      <td>0.000</td>\n",
       "      <td>0.0</td>\n",
       "      <td>0.000</td>\n",
       "      <td>0.0</td>\n",
       "      <td>0.0</td>\n",
       "      <td>0.0</td>\n",
       "      <td>1.000</td>\n",
       "      <td>0.0</td>\n",
       "      <td>0.0</td>\n",
       "    </tr>\n",
       "  </tbody>\n",
       "</table>\n",
       "</div>"
      ],
      "text/plain": [
       "   id                                              tweet   k1   k2   k3   k4  \\\n",
       "0   1                Jazz for a Rainy Afternoon:  {link}  0.0  0.0  0.0  0.0   \n",
       "1   2                   RT: @mention: I love rainy days.  0.0  0.0  0.0  0.0   \n",
       "2   3  Good Morning Chicago! Time to kick the Windy C...  0.0  0.0  0.0  0.0   \n",
       "3   6  Preach lol! :) RT @mention: #alliwantis this t...  0.0  0.0  0.0  0.0   \n",
       "4   9                     @mention good morning sunshine  0.0  0.0  0.0  0.0   \n",
       "\n",
       "    k5   k6     k7   k8     k9  k10  k11  k12    k13  k14  k15  \n",
       "0  0.0  0.0  0.000  0.0  0.000  1.0  0.0  0.0  0.000  0.0  0.0  \n",
       "1  0.0  0.0  0.000  0.0  0.000  1.0  0.0  0.0  0.000  0.0  0.0  \n",
       "2  0.0  0.0  1.000  0.0  0.000  0.0  0.0  0.0  0.000  0.0  0.0  \n",
       "3  0.0  0.0  0.604  0.0  0.196  0.0  0.0  0.0  0.201  0.0  0.0  \n",
       "4  0.0  0.0  0.000  0.0  0.000  0.0  0.0  0.0  1.000  0.0  0.0  "
      ]
     },
     "execution_count": 37,
     "metadata": {},
     "output_type": "execute_result"
    }
   ],
   "source": [
    "text_data.head()"
   ]
  },
  {
   "cell_type": "code",
   "execution_count": 38,
   "metadata": {},
   "outputs": [],
   "source": [
    "## process the tweets\n",
    "import string\n",
    "def process_tweets(tweets):\n",
    "    tweets_clean=[]\n",
    "\n",
    "    for tweet in tweets:\n",
    "\n",
    "        # Process text\n",
    "        tokens = nltk.casual_tokenize(tweet)\n",
    "\n",
    "        # Remove URL\n",
    "        tokens =[term for term in tokens if not term.startswith('{') ]\n",
    "\n",
    "        # Remove profiles\n",
    "        tokens1 = [term for term in tokens if not term.startswith('@')]\n",
    "\n",
    "        # Remove punctuation\n",
    "        punctuation = list(string.punctuation)\n",
    "        tokens2 = [term for term in tokens1 if term not in punctuation]\n",
    "\n",
    "        # Remove hashtags\n",
    "        tokens3 = [term for term in tokens2 if not term.startswith('#')]\n",
    "        \n",
    "        if tokens3 != []:\n",
    "            \n",
    "            sentence3 = ' '.join(tokens3)\n",
    "        else:\n",
    "            sentence3 = 'no words left'\n",
    "        \n",
    "        tweets_clean.append(sentence3)\n",
    "    \n",
    "    return tweets_clean"
   ]
  },
  {
   "cell_type": "code",
   "execution_count": 39,
   "metadata": {},
   "outputs": [],
   "source": [
    "text_data['tweet_clean'] = process_tweets(text_data['tweet'])"
   ]
  },
  {
   "cell_type": "code",
   "execution_count": 40,
   "metadata": {},
   "outputs": [],
   "source": [
    "## get the clean tweets\n",
    "text_clean = text_data[text_data['tweet_clean']!= 'no words left']"
   ]
  },
  {
   "cell_type": "code",
   "execution_count": 41,
   "metadata": {},
   "outputs": [
    {
     "data": {
      "text/html": [
       "<div>\n",
       "<style scoped>\n",
       "    .dataframe tbody tr th:only-of-type {\n",
       "        vertical-align: middle;\n",
       "    }\n",
       "\n",
       "    .dataframe tbody tr th {\n",
       "        vertical-align: top;\n",
       "    }\n",
       "\n",
       "    .dataframe thead th {\n",
       "        text-align: right;\n",
       "    }\n",
       "</style>\n",
       "<table border=\"1\" class=\"dataframe\">\n",
       "  <thead>\n",
       "    <tr style=\"text-align: right;\">\n",
       "      <th></th>\n",
       "      <th>id</th>\n",
       "      <th>tweet</th>\n",
       "      <th>k1</th>\n",
       "      <th>k2</th>\n",
       "      <th>k3</th>\n",
       "      <th>k4</th>\n",
       "      <th>k5</th>\n",
       "      <th>k6</th>\n",
       "      <th>k7</th>\n",
       "      <th>k8</th>\n",
       "      <th>k9</th>\n",
       "      <th>k10</th>\n",
       "      <th>k11</th>\n",
       "      <th>k12</th>\n",
       "      <th>k13</th>\n",
       "      <th>k14</th>\n",
       "      <th>k15</th>\n",
       "      <th>tweet_clean</th>\n",
       "    </tr>\n",
       "  </thead>\n",
       "  <tbody>\n",
       "    <tr>\n",
       "      <th>0</th>\n",
       "      <td>1</td>\n",
       "      <td>Jazz for a Rainy Afternoon:  {link}</td>\n",
       "      <td>0.0</td>\n",
       "      <td>0.0</td>\n",
       "      <td>0.0</td>\n",
       "      <td>0.0</td>\n",
       "      <td>0.0</td>\n",
       "      <td>0.0</td>\n",
       "      <td>0.000</td>\n",
       "      <td>0.0</td>\n",
       "      <td>0.000</td>\n",
       "      <td>1.0</td>\n",
       "      <td>0.0</td>\n",
       "      <td>0.0</td>\n",
       "      <td>0.000</td>\n",
       "      <td>0.0</td>\n",
       "      <td>0.0</td>\n",
       "      <td>Jazz for a Rainy Afternoon link</td>\n",
       "    </tr>\n",
       "    <tr>\n",
       "      <th>1</th>\n",
       "      <td>2</td>\n",
       "      <td>RT: @mention: I love rainy days.</td>\n",
       "      <td>0.0</td>\n",
       "      <td>0.0</td>\n",
       "      <td>0.0</td>\n",
       "      <td>0.0</td>\n",
       "      <td>0.0</td>\n",
       "      <td>0.0</td>\n",
       "      <td>0.000</td>\n",
       "      <td>0.0</td>\n",
       "      <td>0.000</td>\n",
       "      <td>1.0</td>\n",
       "      <td>0.0</td>\n",
       "      <td>0.0</td>\n",
       "      <td>0.000</td>\n",
       "      <td>0.0</td>\n",
       "      <td>0.0</td>\n",
       "      <td>RT I love rainy days</td>\n",
       "    </tr>\n",
       "    <tr>\n",
       "      <th>2</th>\n",
       "      <td>3</td>\n",
       "      <td>Good Morning Chicago! Time to kick the Windy C...</td>\n",
       "      <td>0.0</td>\n",
       "      <td>0.0</td>\n",
       "      <td>0.0</td>\n",
       "      <td>0.0</td>\n",
       "      <td>0.0</td>\n",
       "      <td>0.0</td>\n",
       "      <td>1.000</td>\n",
       "      <td>0.0</td>\n",
       "      <td>0.000</td>\n",
       "      <td>0.0</td>\n",
       "      <td>0.0</td>\n",
       "      <td>0.0</td>\n",
       "      <td>0.000</td>\n",
       "      <td>0.0</td>\n",
       "      <td>0.0</td>\n",
       "      <td>Good Morning Chicago Time to kick the Windy Ci...</td>\n",
       "    </tr>\n",
       "    <tr>\n",
       "      <th>3</th>\n",
       "      <td>6</td>\n",
       "      <td>Preach lol! :) RT @mention: #alliwantis this t...</td>\n",
       "      <td>0.0</td>\n",
       "      <td>0.0</td>\n",
       "      <td>0.0</td>\n",
       "      <td>0.0</td>\n",
       "      <td>0.0</td>\n",
       "      <td>0.0</td>\n",
       "      <td>0.604</td>\n",
       "      <td>0.0</td>\n",
       "      <td>0.196</td>\n",
       "      <td>0.0</td>\n",
       "      <td>0.0</td>\n",
       "      <td>0.0</td>\n",
       "      <td>0.201</td>\n",
       "      <td>0.0</td>\n",
       "      <td>0.0</td>\n",
       "      <td>Preach lol :) RT this type of weather all the ...</td>\n",
       "    </tr>\n",
       "    <tr>\n",
       "      <th>4</th>\n",
       "      <td>9</td>\n",
       "      <td>@mention good morning sunshine</td>\n",
       "      <td>0.0</td>\n",
       "      <td>0.0</td>\n",
       "      <td>0.0</td>\n",
       "      <td>0.0</td>\n",
       "      <td>0.0</td>\n",
       "      <td>0.0</td>\n",
       "      <td>0.000</td>\n",
       "      <td>0.0</td>\n",
       "      <td>0.000</td>\n",
       "      <td>0.0</td>\n",
       "      <td>0.0</td>\n",
       "      <td>0.0</td>\n",
       "      <td>1.000</td>\n",
       "      <td>0.0</td>\n",
       "      <td>0.0</td>\n",
       "      <td>good morning sunshine</td>\n",
       "    </tr>\n",
       "  </tbody>\n",
       "</table>\n",
       "</div>"
      ],
      "text/plain": [
       "   id                                              tweet   k1   k2   k3   k4  \\\n",
       "0   1                Jazz for a Rainy Afternoon:  {link}  0.0  0.0  0.0  0.0   \n",
       "1   2                   RT: @mention: I love rainy days.  0.0  0.0  0.0  0.0   \n",
       "2   3  Good Morning Chicago! Time to kick the Windy C...  0.0  0.0  0.0  0.0   \n",
       "3   6  Preach lol! :) RT @mention: #alliwantis this t...  0.0  0.0  0.0  0.0   \n",
       "4   9                     @mention good morning sunshine  0.0  0.0  0.0  0.0   \n",
       "\n",
       "    k5   k6     k7   k8     k9  k10  k11  k12    k13  k14  k15  \\\n",
       "0  0.0  0.0  0.000  0.0  0.000  1.0  0.0  0.0  0.000  0.0  0.0   \n",
       "1  0.0  0.0  0.000  0.0  0.000  1.0  0.0  0.0  0.000  0.0  0.0   \n",
       "2  0.0  0.0  1.000  0.0  0.000  0.0  0.0  0.0  0.000  0.0  0.0   \n",
       "3  0.0  0.0  0.604  0.0  0.196  0.0  0.0  0.0  0.201  0.0  0.0   \n",
       "4  0.0  0.0  0.000  0.0  0.000  0.0  0.0  0.0  1.000  0.0  0.0   \n",
       "\n",
       "                                         tweet_clean  \n",
       "0                    Jazz for a Rainy Afternoon link  \n",
       "1                               RT I love rainy days  \n",
       "2  Good Morning Chicago Time to kick the Windy Ci...  \n",
       "3  Preach lol :) RT this type of weather all the ...  \n",
       "4                              good morning sunshine  "
      ]
     },
     "execution_count": 41,
     "metadata": {},
     "output_type": "execute_result"
    }
   ],
   "source": [
    "text_clean.head(5)"
   ]
  },
  {
   "cell_type": "code",
   "execution_count": 42,
   "metadata": {},
   "outputs": [],
   "source": [
    "text = text_clean['tweet_clean']\n",
    "label =  text_clean.iloc[:,2:-1].values"
   ]
  },
  {
   "cell_type": "code",
   "execution_count": 28,
   "metadata": {},
   "outputs": [],
   "source": [
    "## split data\n",
    "text_train,text_test,label_train,label_test = train_test_split(text,label,test_size=0.2,random_state=12)\n",
    "\n",
    "MAX_NUM_WORDS = 500 \n",
    "MAX_SEQUENCE_LENGTH = 50 \n",
    "\n",
    "tokenizer = Tokenizer(num_words=MAX_NUM_WORDS)\n",
    "tokenizer.fit_on_texts(text_train)\n",
    "train_sequences = tokenizer.texts_to_sequences(text_train) \n",
    "test_sequences = tokenizer.texts_to_sequences(text_test)\n",
    "\n",
    "text_train_2 = pad_sequences(train_sequences,maxlen=MAX_SEQUENCE_LENGTH)\n",
    "text_test_2 = pad_sequences(test_sequences,maxlen=MAX_SEQUENCE_LENGTH)\n",
    "\n",
    "## split train data into training and validation\n",
    "train_text = text_train_2[:50000]\n",
    "\n",
    "val_text = text_train_2[50000:]\n",
    "\n",
    "train_label = label_train[:50000]\n",
    "\n",
    "val_label = label_train[50000:]"
   ]
  },
  {
   "cell_type": "code",
   "execution_count": 30,
   "metadata": {},
   "outputs": [
    {
     "name": "stdout",
     "output_type": "stream",
     "text": [
      "Train on 50000 samples, validate on 12320 samples\n",
      "Epoch 1/10\n",
      "50000/50000 [==============================] - 27s 536us/step - loss: 2.0129 - acc: 0.5776 - val_loss: 1.6439 - val_acc: 0.7278\n",
      "Epoch 2/10\n",
      "50000/50000 [==============================] - 27s 537us/step - loss: 1.5214 - acc: 0.7697 - val_loss: 1.5343 - val_acc: 0.7515\n",
      "Epoch 3/10\n",
      "50000/50000 [==============================] - 20s 408us/step - loss: 1.5022 - acc: 0.7723 - val_loss: 1.5316 - val_acc: 0.7644\n",
      "Epoch 4/10\n",
      "50000/50000 [==============================] - 21s 415us/step - loss: 1.5127 - acc: 0.7802 - val_loss: 1.5363 - val_acc: 0.7678\n",
      "Epoch 5/10\n",
      "50000/50000 [==============================] - 22s 434us/step - loss: 1.5277 - acc: 0.7831 - val_loss: 1.5415 - val_acc: 0.7735\n",
      "Epoch 6/10\n",
      "50000/50000 [==============================] - 23s 456us/step - loss: 1.5459 - acc: 0.7825 - val_loss: 1.5756 - val_acc: 0.7726\n",
      "Epoch 7/10\n",
      "50000/50000 [==============================] - 24s 487us/step - loss: 1.5586 - acc: 0.7823 - val_loss: 1.5813 - val_acc: 0.7678\n",
      "Epoch 8/10\n",
      "50000/50000 [==============================] - 26s 528us/step - loss: 1.5653 - acc: 0.7799 - val_loss: 1.5897 - val_acc: 0.7592\n",
      "Epoch 9/10\n",
      "50000/50000 [==============================] - 26s 516us/step - loss: 1.5811 - acc: 0.7749 - val_loss: 1.5880 - val_acc: 0.7648\n",
      "Epoch 10/10\n",
      "50000/50000 [==============================] - 25s 509us/step - loss: 1.6019 - acc: 0.7730 - val_loss: 1.6081 - val_acc: 0.7611\n"
     ]
    }
   ],
   "source": [
    "## make model of LSTM\n",
    "model_RNN = Sequential()\n",
    "model_RNN.add(Embedding(MAX_NUM_WORDS, 64))\n",
    "#model.add(SimpleRNN(32))\n",
    "#model.add(GRU(32))\n",
    "model_RNN.add(LSTM(32))\n",
    "model_RNN.add(Dense(15, activation ='softmax'))\n",
    "model_RNN.compile(optimizer = 'rmsprop',\n",
    "             loss = 'categorical_crossentropy',\n",
    "             metrics=['acc'])\n",
    "rnn_history = model_RNN.fit(train_text,train_label,epochs = 10,validation_data = (val_text, val_label), batch_size = 64,verbose=1)"
   ]
  },
  {
   "cell_type": "code",
   "execution_count": 43,
   "metadata": {},
   "outputs": [
    {
     "name": "stdout",
     "output_type": "stream",
     "text": [
      "15580/15580 [==============================] - 4s 241us/step\n",
      "The loss of test data is: 1.6019382168300957\n",
      "The accuray of test data is: 76.42%\n"
     ]
    }
   ],
   "source": [
    "RNN_loss, RNN_acc = model_RNN.evaluate(text_test_2, label_test)\n",
    "# Test Error\n",
    "print('The loss of test data is:', RNN_loss)\n",
    "print('The accuray of test data is: %.2f%%' % (RNN_acc*100))"
   ]
  },
  {
   "cell_type": "markdown",
   "metadata": {},
   "source": [
    "### 3.2 CNN\n",
    "Build and train a 1D CNN for this text classification task. We recommend you do a character-level convolution (with character embeddings)."
   ]
  },
  {
   "cell_type": "code",
   "execution_count": 56,
   "metadata": {},
   "outputs": [
    {
     "name": "stdout",
     "output_type": "stream",
     "text": [
      "Train on 50000 samples, validate on 12320 samples\n",
      "Epoch 1/10\n",
      "50000/50000 [==============================] - 6s 121us/step - loss: 216.5647 - acc: 0.2697 - val_loss: 1120.8352 - val_acc: 0.1280\n",
      "Epoch 2/10\n",
      "50000/50000 [==============================] - 6s 126us/step - loss: 4097.8579 - acc: 0.1460 - val_loss: 10429.6638 - val_acc: 0.1096\n",
      "Epoch 3/10\n",
      "50000/50000 [==============================] - 6s 120us/step - loss: 18316.1537 - acc: 0.1478 - val_loss: 29527.8303 - val_acc: 0.0319\n",
      "Epoch 4/10\n",
      "50000/50000 [==============================] - 6s 123us/step - loss: 41304.7889 - acc: 0.1441 - val_loss: 88664.8865 - val_acc: 0.0319\n",
      "Epoch 5/10\n",
      "50000/50000 [==============================] - 6s 125us/step - loss: 85597.0531 - acc: 0.1435 - val_loss: 86511.0665 - val_acc: 0.0459\n",
      "Epoch 6/10\n",
      "50000/50000 [==============================] - 6s 128us/step - loss: 130433.7754 - acc: 0.1421 - val_loss: 202258.2743 - val_acc: 0.0145\n",
      "Epoch 7/10\n",
      "50000/50000 [==============================] - 6s 129us/step - loss: 203588.7273 - acc: 0.1411 - val_loss: 174671.9047 - val_acc: 0.0918\n",
      "Epoch 8/10\n",
      "50000/50000 [==============================] - 7s 130us/step - loss: 269746.8800 - acc: 0.1452 - val_loss: 350165.2825 - val_acc: 0.0539\n",
      "Epoch 9/10\n",
      "50000/50000 [==============================] - 7s 131us/step - loss: 391922.6070 - acc: 0.1425 - val_loss: 435711.4027 - val_acc: 0.1096\n",
      "Epoch 10/10\n",
      "50000/50000 [==============================] - 7s 134us/step - loss: 485308.8149 - acc: 0.1460 - val_loss: 413893.9881 - val_acc: 0.0918\n"
     ]
    }
   ],
   "source": [
    "model_CNN = Sequential()\n",
    "model_CNN.add(Embedding(MAX_NUM_WORDS,64))\n",
    "model_CNN.add(Conv1D(64, kernel_size = 3,padding='valid',activation='relu',strides=1))\n",
    "model_CNN.add(GlobalMaxPooling1D())\n",
    "model_CNN.add(Dropout(0.2))\n",
    "model_CNN.add(Dense(64,activation='relu'))\n",
    "model_CNN.add(Dense(15,activation='softmax'))\n",
    "model_CNN.compile(optimizer = 'adam',\n",
    "             loss = 'categorical_crossentropy',\n",
    "             metrics=['acc'])\n",
    "cnn_history = model_CNN.fit(train_text,train_label,epochs = 10,validation_data = (val_text, val_label), batch_size = 64,verbose=1)"
   ]
  },
  {
   "cell_type": "code",
   "execution_count": 57,
   "metadata": {},
   "outputs": [
    {
     "name": "stdout",
     "output_type": "stream",
     "text": [
      "15580/15580 [==============================] - 1s 63us/step\n",
      "The loss of test data is: 408536.2221277279\n",
      "The accuray of test data is: 9.26%\n"
     ]
    }
   ],
   "source": [
    "CNN_loss, CNN_acc = model_CNN.evaluate(text_test_2, label_test)\n",
    "# Test Error\n",
    "print('The loss of test data is:', CNN_loss)\n",
    "print('The accuray of test data is: %.2f%%' % (CNN_acc*100))"
   ]
  },
  {
   "cell_type": "markdown",
   "metadata": {},
   "source": [
    "### 3.3\n",
    "Be sure to directly compare your two methods with an ROC curve or similar validation method. Don't forget to create a train-test split."
   ]
  },
  {
   "cell_type": "code",
   "execution_count": 58,
   "metadata": {},
   "outputs": [
    {
     "data": {
      "image/png": "[encoded data removed]",
      "text/plain": [
       "<Figure size 1152x432 with 2 Axes>"
      ]
     },
     "metadata": {
      "needs_background": "light"
     },
     "output_type": "display_data"
    }
   ],
   "source": [
    "# Plot the results\n",
    "plt.figure(figsize=(16,6))\n",
    "plt.subplot(1, 2, 1)\n",
    "plt.plot(cnn_history.history['acc'])\n",
    "plt.plot(cnn_history.history['val_acc'])\n",
    "plt.title('CNN Model Accuracy')\n",
    "plt.ylabel('Accuracy')\n",
    "plt.xlabel('Epochs')\n",
    "plt.legend(['train', 'validation'])\n",
    "\n",
    "plt.subplot(1, 2, 2)\n",
    "plt.plot(rnn_history.history['acc'])\n",
    "plt.plot(rnn_history.history['val_acc'])\n",
    "plt.title('RNN Model Accuracy')\n",
    "plt.ylabel('Accuracy')\n",
    "plt.xlabel('Epochs')\n",
    "plt.legend(['train', 'validation'])\n",
    "plt.show()"
   ]
  },
  {
   "cell_type": "markdown",
   "metadata": {},
   "source": [
    "The result of two models are quite different.\n",
    "The test accuracy for CNN is 9.26% while for RNN is 76.42%."
   ]
  }
 ],
 "metadata": {
  "kernelspec": {
   "display_name": "Python 3",
   "language": "python",
   "name": "python3"
  },
  "language_info": {
   "codemirror_mode": {
    "name": "ipython",
    "version": 3
   },
   "file_extension": ".py",
   "mimetype": "text/x-python",
   "name": "python",
   "nbconvert_exporter": "python",
   "pygments_lexer": "ipython3",
   "version": "3.7.3"
  }
 },
 "nbformat": 4,
 "nbformat_minor": 2
}
